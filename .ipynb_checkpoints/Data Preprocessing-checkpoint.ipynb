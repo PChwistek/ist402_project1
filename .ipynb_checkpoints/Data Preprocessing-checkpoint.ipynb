{
 "cells": [
  {
   "cell_type": "code",
   "execution_count": 41,
   "metadata": {
    "collapsed": true
   },
   "outputs": [],
   "source": [
    "#object that holds a lot of our data\n",
    "class NewsObject:\n",
    "    id = '0'\n",
    "    targetTitle = []\n",
    "    targetDescription = \"\"\n",
    "    targetKeywords = []\n",
    "    targetParagraphs = []\n",
    "    targetCaptions = []\n",
    "    postText = []\n",
    "    postMedia = []\n",
    "    postTimestamp = ''\n",
    "    #truthMedian = ''\n",
    "    #truthMean = ''\n",
    "    #truthMode = ''\n",
    "    truthClass = \"\"\n",
    "    #truthJudgments = []\n",
    "    attributes = ()\n",
    "    \n",
    "    def __init__(self, line):\n",
    "        \n",
    "        self.id = line['id']\n",
    "        self.targetTitle= line['targetTitle']\n",
    "        self.targetKeywords = line['targetKeywords']\n",
    "        self.targetParagraphs = line['targetParagraphs']\n",
    "        self.targetCaptions = line['targetCaptions']\n",
    "        self.postText = line['postText']\n",
    "        self.postMedia = line['postMedia']\n",
    "        self.postTimestamp = line['postTimestamp']\n",
    "        \n",
    "    def addTruth(self, line):\n",
    "        #self.truthMedian = line['truthMedian']\n",
    "        #self.truthMean = line['truthMean']\n",
    "        #self.truthMode = line['truthMode']\n",
    "        if line['truthClass'] == 'clickbait':\n",
    "            self.truthClass = 1\n",
    "        else:\n",
    "            self.truthClass = 0\n",
    "        #self.truthJudgments = line['truthJudgments']\n",
    "        \n",
    "    def extractFeatures(self):\n",
    "        f1 = 0\n",
    "        word = item.targetTitle.split()\n",
    "        f1 = len(word)\n",
    "        f2 = self.truthClass\n",
    "        self.attributes = (f1, f2)\n",
    "        \n",
    "        \n",
    "        \n",
    "        \n",
    "        \n",
    "\n",
    "            "
   ]
  },
  {
   "cell_type": "code",
   "execution_count": 42,
   "metadata": {},
   "outputs": [],
   "source": [
    "#import files\n",
    "import json\n",
    "instances = []\n",
    "\n",
    "with open('dataset/instances_train.jsonl') as file:\n",
    "    for line in file:\n",
    "        temp = NewsObject(json.loads(line))\n",
    "        instances.append(temp)\n",
    "        \n",
    "with open('dataset/truth_train.jsonl') as file2:\n",
    "    i = 0\n",
    "    for line in file2:\n",
    "        instances[i].addTruth(json.loads(line))\n",
    "        i += 1\n"
   ]
  },
  {
   "cell_type": "code",
   "execution_count": 43,
   "metadata": {
    "collapsed": true
   },
   "outputs": [],
   "source": [
    "for item in instances:\n",
    "    item.extractFeatures()\n",
    "    "
   ]
  },
  {
   "cell_type": "code",
   "execution_count": 46,
   "metadata": {},
   "outputs": [],
   "source": [
    "### dump to arff\n",
    "import arff # https://pypi.python.org/pypi/liac-arff\n",
    "features = [(\"word count\", 'NUMERIC'),\n",
    "            (\"label\", ['0', '1'])]\n",
    "data = {}\n",
    "data.setdefault('attributes', features)\n",
    "data.setdefault('description', '')\n",
    "data.setdefault('relation', 'clickbait_sample')\n",
    "data.setdefault('data', [])\n",
    "for item in instances:\n",
    "    temp = []\n",
    "    temp.append(item.attributes)\n",
    "    data['data'].append(tmp)\n",
    "\n",
    "with open('sample_train.arff', 'w') as f:\n",
    "    f.write(arff.dumps(data))"
   ]
  },
  {
   "cell_type": "code",
   "execution_count": null,
   "metadata": {
    "collapsed": true
   },
   "outputs": [],
   "source": []
  },
  {
   "cell_type": "code",
   "execution_count": null,
   "metadata": {
    "collapsed": true
   },
   "outputs": [],
   "source": []
  }
 ],
 "metadata": {
  "kernelspec": {
   "display_name": "Python 3",
   "language": "python",
   "name": "python3"
  },
  "language_info": {
   "codemirror_mode": {
    "name": "ipython",
    "version": 3
   },
   "file_extension": ".py",
   "mimetype": "text/x-python",
   "name": "python",
   "nbconvert_exporter": "python",
   "pygments_lexer": "ipython3",
   "version": "3.6.1"
  }
 },
 "nbformat": 4,
 "nbformat_minor": 2
}
